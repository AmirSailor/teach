{
 "cells": [
  {
   "attachments": {},
   "cell_type": "markdown",
   "id": "occupational-dairy",
   "metadata": {},
   "source": [
    "# Streamlit\n",
    "You should create a data application using [Streamlit](https://docs.streamlit.io/). In particular, your application should deliver the following features: \n",
    "- Multiple pages to organize the content.\n",
    "- Various widgets to interact with the user.\n",
    "- Data loaders to upload CSV datasets.\n",
    "- Interactive dashboards to visualize data insights."
   ]
  },
  {
   "cell_type": "code",
   "execution_count": null,
   "id": "incredible-impossible",
   "metadata": {},
   "outputs": [],
   "source": []
  }
 ],
 "metadata": {
  "kernelspec": {
   "display_name": "Python 3",
   "language": "python",
   "name": "python3"
  },
  "language_info": {
   "codemirror_mode": {
    "name": "ipython",
    "version": 3
   },
   "file_extension": ".py",
   "mimetype": "text/x-python",
   "name": "python",
   "nbconvert_exporter": "python",
   "pygments_lexer": "ipython3",
   "version": "3.11.2"
  }
 },
 "nbformat": 4,
 "nbformat_minor": 5
}
