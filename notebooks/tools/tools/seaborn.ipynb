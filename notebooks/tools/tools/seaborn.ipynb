{
 "cells": [
  {
   "cell_type": "markdown",
   "id": "occupational-dairy",
   "metadata": {},
   "source": [
    "# Seaborn\n",
    "   - Content taken from *Jake VanderPlas. Python data science handbook: Essential tools for working with data. O'Reilly Media, 2016.*   \n",
    "   \n",
    "Matplotlib has proven to be an incredibly useful and popular visualization tool, but even avid users will admit it often leaves much to be desired. There are several valid complaints about Matplotlib that often come up:\n",
    "- Prior to version 2.0, Matplotlib’s defaults are not exactly the best choices. It was based off of MATLAB circa 1999, and this often shows.\n",
    "- Matplotlib’s API is relatively low level. Doing sophisticated statistical visualization is possible, but often requires a lot of boilerplate code. \n",
    "- Matplotlib predated Pandas by more than a decade, and thus is not designed for use with Pandas DataFrames. In order to visualize data from a Pandas DataFrame, you must extract each Series and often concatenate them together into the right format. It would be nicer to have a plotting library that can intelligently use the DataFrame labels in a plot.\n",
    "\n",
    "An answer to these problems is Seaborn. Seaborn provides an API on top of Matplotlib that offers sane choices for plot style and color defaults, defines simple high-level functions for common statistical plot types, and integrates with the functionality provided by Pandas DataFrames.\n",
    "\n",
    "To be fair, the Matplotlib team is addressing this: it has recently added the `plt.style` tools and is starting to handle Pandas data more seamlessly. The 2.0 release of the library will include a new default stylesheet that will improve on the current status quo. But for all the reasons just discussed, Seaborn remains an extremely useful add-on.\n",
    "\n",
    "## Seaborn Versus Matplotlib\n",
    "Here is an example of a simple random-walk plot in Matplotlib, using its classic plot formatting and colors. Although the result contains all the information we’d like it to convey, it does so in a way that is not all that aesthetically pleasing, and even looks a bit old-fashioned in the context of 21st-century data visualization."
   ]
  },
  {
   "cell_type": "code",
   "execution_count": null,
   "id": "lined-trade",
   "metadata": {},
   "outputs": [],
   "source": [
    "import numpy as np\n",
    "import pandas as pd\n",
    "import matplotlib.pyplot as plt\n",
    "plt.style.use('classic')\n",
    "%matplotlib inline\n",
    " \n",
    "# Create some data\n",
    "rng = np.random.RandomState(0)\n",
    "x = np.linspace(0, 10, 500)\n",
    "y = np.cumsum(rng.randn(500, 6), 0)\n",
    "    \n",
    "# Plot the data with Matplotlib defaults\n",
    "plt.plot(x, y)\n",
    "plt.legend('ABCDEF', ncol=2, loc='upper left');"
   ]
  },
  {
   "cell_type": "markdown",
   "id": "wired-fraud",
   "metadata": {},
   "source": [
    "Now let’s take a look at how it works with Seaborn. As we will see, Seaborn has many of its own high-level plotting routines, but it can also overwrite Matplotlib’s default parameters and in turn get even simple Matplotlib scripts to produce vastly superior output. We can set the style by calling Seaborn’s `set()` method. By convention, Seaborn is imported as `sns`. Ah, much better!"
   ]
  },
  {
   "cell_type": "code",
   "execution_count": null,
   "id": "invalid-expression",
   "metadata": {},
   "outputs": [],
   "source": [
    "import seaborn as sns\n",
    "sns.set()\n",
    "\n",
    "# same plotting code as above!\n",
    "plt.plot(x, y)\n",
    "plt.legend('ABCDEF', ncol=2, loc='upper left');"
   ]
  },
  {
   "cell_type": "markdown",
   "id": "reserved-asbestos",
   "metadata": {},
   "source": [
    "## Exploring Seaborn Plots\n",
    "The main idea of Seaborn is that it provides high-level commands to create a variety of plot types useful for statistical data exploration, and even some statistical model fitting.   \n",
    "\n",
    "Let’s take a look at a few of the datasets and plot types available in Seaborn. Note that all of the following could be done using raw Matplotlib commands (this is, in fact, what Seaborn does under the hood), but the Seaborn API is much more convenient.\n",
    "\n",
    "### Histograms, KDE, and Densities\n",
    "Often in statistical data visualization, all you want is to plot histograms and joint distributions of variables. We have seen that this is relatively straightforward in Matplotlib."
   ]
  },
  {
   "cell_type": "code",
   "execution_count": null,
   "id": "dress-builder",
   "metadata": {},
   "outputs": [],
   "source": [
    "data = np.random.multivariate_normal([0, 0], [[5, 2], [2, 2]], size=2000)\n",
    "data = pd.DataFrame(data, columns=['x', 'y'])\n",
    "\n",
    "for col in 'xy':\n",
    "    plt.hist(data[col], alpha=0.5)"
   ]
  },
  {
   "cell_type": "markdown",
   "id": "attempted-price",
   "metadata": {},
   "source": [
    "This can be done with Seaborn using `histplot`. In addition to a histogram, we can get a smooth estimate of the distribution using a kernel density estimation using `kde` option."
   ]
  },
  {
   "cell_type": "code",
   "execution_count": null,
   "id": "mediterranean-dialogue",
   "metadata": {
    "scrolled": true
   },
   "outputs": [],
   "source": [
    "sns.histplot(data, kde=True);"
   ]
  },
  {
   "cell_type": "markdown",
   "id": "charming-blood",
   "metadata": {},
   "source": [
    "If we pass the full two-dimensional dataset to `kdeplot`, we will get a two-dimensional visualization of the data."
   ]
  },
  {
   "cell_type": "code",
   "execution_count": null,
   "id": "handy-contact",
   "metadata": {},
   "outputs": [],
   "source": [
    "sns.kdeplot(data=data, x='x', y='y');"
   ]
  },
  {
   "cell_type": "markdown",
   "id": "general-housing",
   "metadata": {},
   "source": [
    "### Pair Plots\n",
    "When you generalize joint plots to datasets of larger dimensions, you end up with pair plots. This is very useful for exploring correlations between multidimensional data, when you’d like to plot all pairs of values against each other.   \n",
    "\n",
    "We’ll demo this with the well-known Iris dataset, which lists measurements of petals and sepals of three iris species. Visualizing the multidimensional relationships among the samples is as easy as calling `sns.pairplot`."
   ]
  },
  {
   "cell_type": "code",
   "execution_count": null,
   "id": "perfect-field",
   "metadata": {},
   "outputs": [],
   "source": [
    "iris = sns.load_dataset(\"iris\")\n",
    "iris.head()"
   ]
  },
  {
   "cell_type": "code",
   "execution_count": null,
   "id": "square-ethernet",
   "metadata": {},
   "outputs": [],
   "source": [
    "sns.pairplot(iris, hue='species', height=2.5);"
   ]
  },
  {
   "cell_type": "markdown",
   "id": "parliamentary-hobby",
   "metadata": {},
   "source": [
    "### Faceted Histograms\n",
    "Sometimes the best way to view data is via histograms of subsets. Seaborn’s `FacetGrid` makes this extremely simple. We’ll take a look at some data that shows the amount that restaurant staff receive in tips based on various indicator data."
   ]
  },
  {
   "cell_type": "code",
   "execution_count": null,
   "id": "considered-narrow",
   "metadata": {},
   "outputs": [],
   "source": [
    "tips = sns.load_dataset('tips')\n",
    "tips.head()"
   ]
  },
  {
   "cell_type": "code",
   "execution_count": null,
   "id": "dressed-fifteen",
   "metadata": {},
   "outputs": [],
   "source": [
    "tips['tip_pct'] = 100 * tips['tip'] / tips['total_bill']\n",
    "grid = sns.FacetGrid(tips, row=\"sex\", col=\"time\", margin_titles=True)\n",
    "grid.map(plt.hist, \"tip_pct\", bins=np.linspace(0, 40, 15));"
   ]
  },
  {
   "cell_type": "markdown",
   "id": "documentary-engineer",
   "metadata": {},
   "source": [
    "### Cat Plots\n",
    "Cat plots can be useful for this kind of visualization as well. This allows you to view the distribution of a parameter within bins defined by any other parameter."
   ]
  },
  {
   "cell_type": "code",
   "execution_count": null,
   "id": "hollywood-resistance",
   "metadata": {},
   "outputs": [],
   "source": [
    "g = sns.catplot(x=\"day\", y=\"total_bill\", hue=\"sex\", data=tips, kind=\"box\")\n",
    "g.set_axis_labels(\"Day\", \"Total Bill\");"
   ]
  },
  {
   "cell_type": "markdown",
   "id": "organic-florida",
   "metadata": {},
   "source": [
    "### Joint Distributions\n",
    "Similar to the pair plot we saw earlier, we can use `sns.jointplot` to show the joint distribution between different datasets, along with the associated marginal distributions."
   ]
  },
  {
   "cell_type": "code",
   "execution_count": null,
   "id": "wireless-overview",
   "metadata": {},
   "outputs": [],
   "source": [
    "sns.jointplot(x=\"total_bill\", y=\"tip\", data=tips, kind='hex');"
   ]
  },
  {
   "cell_type": "markdown",
   "id": "applied-meaning",
   "metadata": {},
   "source": [
    "The joint plot can even do some automatic kernel density estimation and regression."
   ]
  },
  {
   "cell_type": "code",
   "execution_count": null,
   "id": "right-creature",
   "metadata": {},
   "outputs": [],
   "source": [
    "sns.jointplot(x=\"total_bill\", y=\"tip\", data=tips, kind='reg');"
   ]
  },
  {
   "cell_type": "markdown",
   "id": "attempted-flight",
   "metadata": {},
   "source": [
    "### Bar Plots\n",
    "Time series can be plotted with `sns.catplot`. Let us use the Planets data."
   ]
  },
  {
   "cell_type": "code",
   "execution_count": null,
   "id": "naked-product",
   "metadata": {},
   "outputs": [],
   "source": [
    "planets = sns.load_dataset('planets')\n",
    "planets.head()"
   ]
  },
  {
   "cell_type": "code",
   "execution_count": null,
   "id": "opened-sharp",
   "metadata": {},
   "outputs": [],
   "source": [
    "g = sns.catplot(x=\"year\", data=planets, aspect=2, kind=\"count\", color='steelblue')\n",
    "g.set_xticklabels(step=5);"
   ]
  },
  {
   "cell_type": "markdown",
   "id": "reserved-glory",
   "metadata": {},
   "source": [
    "### Exercise\n",
    "We want to learn more by looking at the method of discovery of each of these planets. Draw a bar plot to visualize multiple bars per years 2008 to 2015. Each bar should show the number of planets discovered with a certain method in that particular year. Decorate the plot properly. "
   ]
  },
  {
   "cell_type": "code",
   "execution_count": null,
   "id": "recorded-history",
   "metadata": {},
   "outputs": [],
   "source": []
  }
 ],
 "metadata": {
  "kernelspec": {
   "display_name": "Python 3 (ipykernel)",
   "language": "python",
   "name": "python3"
  },
  "language_info": {
   "codemirror_mode": {
    "name": "ipython",
    "version": 3
   },
   "file_extension": ".py",
   "mimetype": "text/x-python",
   "name": "python",
   "nbconvert_exporter": "python",
   "pygments_lexer": "ipython3",
   "version": "3.8.12"
  }
 },
 "nbformat": 4,
 "nbformat_minor": 5
}
