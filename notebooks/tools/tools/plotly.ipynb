{
 "cells": [
  {
   "cell_type": "markdown",
   "id": "occupational-dairy",
   "metadata": {},
   "source": [
    "# Plotly\n",
    "   - Content taken from *https://plotly.com/python/*.   \n",
    "  \n",
    "The plotly Python library is an interactive open-source plotting library that supports over 40 unique chart types covering a wide range of statistical, financial, geographic, scientific, and 3-dimensional use-cases.\n",
    "\n",
    "Built on top of the Plotly JavaScript library (plotly.js), plotly enables Python users to create beautiful interactive web-based visualizations that can be displayed in Jupyter notebooks, saved to standalone HTML files, or served as part of pure Python-built web applications using Dash. The plotly Python library is sometimes referred to as \"plotly.py\" to differentiate it from the JavaScript library.\n",
    "\n",
    "For use in the classic Jupyter Notebook, install the `plotly` and `ipywidgets` packages using pip. These packages contain everything you need to run a Jupyter notebook and display plotly figures inline using the notebook renderer."
   ]
  },
  {
   "cell_type": "markdown",
   "id": "settled-scratch",
   "metadata": {},
   "source": [
    "## Plotly Express\n",
    "Plotly Express is the easy-to-use, high-level interface to Plotly, which operates on a variety of types of data and produces easy-to-style figures. \n",
    "\n",
    "The `plotly.express` module (usually imported as `px`) contains functions that can create entire figures at once, and is referred to as Plotly Express or PX. Plotly Express is a built-in part of the plotly library, and is the recommended starting point for creating most common figures. Every Plotly Express function uses graph objects internally and returns a `plotly.graph_objects.Figure` instance."
   ]
  },
  {
   "cell_type": "code",
   "execution_count": null,
   "id": "biological-contract",
   "metadata": {},
   "outputs": [],
   "source": [
    "import plotly.express as px"
   ]
  },
  {
   "cell_type": "markdown",
   "id": "hindu-george",
   "metadata": {},
   "source": [
    "### Scatter Plot"
   ]
  },
  {
   "cell_type": "code",
   "execution_count": null,
   "id": "parallel-continuity",
   "metadata": {},
   "outputs": [],
   "source": [
    "df = px.data.iris()\n",
    "df.head()"
   ]
  },
  {
   "cell_type": "code",
   "execution_count": null,
   "id": "prescription-organ",
   "metadata": {},
   "outputs": [],
   "source": [
    "fig = px.scatter(df, x=\"sepal_width\", y=\"sepal_length\", color=\"species\",\n",
    "                 size=\"petal_length\", hover_data=[\"petal_width\"])\n",
    "fig.show()"
   ]
  },
  {
   "cell_type": "markdown",
   "id": "entire-penalty",
   "metadata": {},
   "source": [
    "### Line Plot"
   ]
  },
  {
   "cell_type": "code",
   "execution_count": null,
   "id": "informative-demonstration",
   "metadata": {},
   "outputs": [],
   "source": [
    "import numpy as np\n",
    "\n",
    "t = np.linspace(0, 2 * np.pi, 100)\n",
    "t"
   ]
  },
  {
   "cell_type": "code",
   "execution_count": null,
   "id": "figured-ordinance",
   "metadata": {},
   "outputs": [],
   "source": [
    "fig = px.line(x=t, y=np.cos(t), labels={\"x\":\"t\", \"y\":\"cos(t)\"})\n",
    "fig.show()"
   ]
  },
  {
   "cell_type": "markdown",
   "id": "talented-working",
   "metadata": {},
   "source": [
    "### Bar Plot"
   ]
  },
  {
   "cell_type": "code",
   "execution_count": null,
   "id": "sufficient-delivery",
   "metadata": {},
   "outputs": [],
   "source": [
    "df = px.data.tips()\n",
    "df.head()"
   ]
  },
  {
   "cell_type": "code",
   "execution_count": null,
   "id": "centered-dietary",
   "metadata": {},
   "outputs": [],
   "source": [
    "fig = px.bar(df, x=\"sex\", y=\"total_bill\", color=\"smoker\", barmode=\"group\", height=500)\n",
    "fig.show()"
   ]
  },
  {
   "cell_type": "markdown",
   "id": "moral-officer",
   "metadata": {},
   "source": [
    "`px.bar()` will result in one rectangle drawn per row of input. This can sometimes result in a striped look as in the examples above. To combine these rectangles into one per color per position, you can use `px.histogram()`."
   ]
  },
  {
   "cell_type": "code",
   "execution_count": null,
   "id": "elegant-penguin",
   "metadata": {},
   "outputs": [],
   "source": [
    "fig = px.histogram(df, x=\"sex\", y=\"total_bill\", color=\"smoker\", barmode=\"group\", height=500)\n",
    "fig.show()"
   ]
  },
  {
   "cell_type": "markdown",
   "id": "arbitrary-martial",
   "metadata": {},
   "source": [
    "### Maps"
   ]
  },
  {
   "cell_type": "code",
   "execution_count": null,
   "id": "enabling-airplane",
   "metadata": {},
   "outputs": [],
   "source": [
    "df = px.data.gapminder().query(\"year==2007\")\n",
    "df.head()"
   ]
  },
  {
   "cell_type": "code",
   "execution_count": null,
   "id": "moderate-number",
   "metadata": {},
   "outputs": [],
   "source": [
    "fig = px.scatter_geo(df, locations=\"iso_alpha\", color=\"continent\", \n",
    "                     hover_name=\"country\", size=\"pop\", projection=\"natural earth\")\n",
    "fig.show()"
   ]
  },
  {
   "cell_type": "markdown",
   "id": "soviet-insertion",
   "metadata": {},
   "source": [
    "### 3D Coordinates"
   ]
  },
  {
   "cell_type": "code",
   "execution_count": null,
   "id": "expired-english",
   "metadata": {},
   "outputs": [],
   "source": [
    "df = px.data.iris()"
   ]
  },
  {
   "cell_type": "code",
   "execution_count": null,
   "id": "configured-nursery",
   "metadata": {},
   "outputs": [],
   "source": [
    "fig = px.scatter_3d(df, x=\"sepal_length\", y=\"sepal_width\", z=\"petal_width\", color=\"species\")\n",
    "fig.show()"
   ]
  },
  {
   "cell_type": "markdown",
   "id": "cognitive-console",
   "metadata": {},
   "source": [
    "## Graphic Objects\n",
    "If Plotly Express does not provide a good starting point, it is possible to use low-level Graphic Objects. `go.Scatter` can be used both for plotting points (makers) or lines, depending on the value of mode. Use mode argument to choose between markers, lines, or a combination of both.\n",
    "\n",
    "The figures created, manipulated and rendered by the plotly Python library are represented by tree-like data structures which are automatically serialized to JSON for rendering by the `Plotly.js` JavaScript library. These trees are composed of named nodes called \"attributes\", with their structure defined by the `Plotly.js` figure schema, which is available in machine-readable form. The `plotly.graph_objects` module (typically imported as `go`) contains an automatically-generated hierarchy of Python classes which represent non-leaf nodes in this figure schema. The term \"graph objects\" refers to instances of these classes."
   ]
  },
  {
   "cell_type": "code",
   "execution_count": null,
   "id": "shaped-shadow",
   "metadata": {},
   "outputs": [],
   "source": [
    "import plotly.graph_objects as go"
   ]
  },
  {
   "cell_type": "markdown",
   "id": "committed-houston",
   "metadata": {},
   "source": [
    "### Scatter and Line Plots"
   ]
  },
  {
   "cell_type": "code",
   "execution_count": null,
   "id": "architectural-production",
   "metadata": {},
   "outputs": [],
   "source": [
    "import numpy as np\n",
    "\n",
    "np.random.seed(1)\n",
    "\n",
    "N = 100\n",
    "random_x = np.linspace(0, 1, N)\n",
    "random_y0 = np.random.randn(N) + 5\n",
    "random_y1 = np.random.randn(N)\n",
    "random_y2 = np.random.randn(N) - 5"
   ]
  },
  {
   "cell_type": "code",
   "execution_count": null,
   "id": "happy-bumper",
   "metadata": {},
   "outputs": [],
   "source": [
    "fig = go.Figure()\n",
    "fig.add_trace(go.Scatter(x=random_x, y=random_y0, mode=\"markers\", name=\"markers\"))\n",
    "fig.add_trace(go.Scatter(x=random_x, y=random_y1, mode=\"lines+markers\", name=\"lines+markers\"))\n",
    "fig.add_trace(go.Scatter(x=random_x, y=random_y2, mode=\"lines\", name=\"lines\"))\n",
    "fig.show()"
   ]
  },
  {
   "cell_type": "markdown",
   "id": "satisfied-growing",
   "metadata": {},
   "source": [
    "### Bar Plot"
   ]
  },
  {
   "cell_type": "code",
   "execution_count": null,
   "id": "answering-hollywood",
   "metadata": {},
   "outputs": [],
   "source": [
    "animals=[\"giraffes\", \"orangutans\", \"monkeys\"]\n",
    "\n",
    "fig = go.Figure(data=[\n",
    "    go.Bar(name=\"SF Zoo\", x=animals, y=[20, 14, 23]),\n",
    "    go.Bar(name=\"LA Zoo\", x=animals, y=[12, 18, 29])\n",
    "])\n",
    "\n",
    "fig.update_layout(barmode=\"group\")\n",
    "fig.show()"
   ]
  },
  {
   "cell_type": "markdown",
   "id": "decimal-concentrate",
   "metadata": {},
   "source": [
    "### Maps"
   ]
  },
  {
   "cell_type": "code",
   "execution_count": null,
   "id": "monthly-sense",
   "metadata": {},
   "outputs": [],
   "source": [
    "import pandas as pd\n",
    "\n",
    "df = pd.read_csv(\"https://raw.githubusercontent.com/plotly/datasets/master/2011_february_us_airport_traffic.csv\")\n",
    "df[\"text\"] = df[\"airport\"] + \"\" + df[\"city\"] + \", \" + df[\"state\"] + \"\" + \"Arrivals: \" + df[\"cnt\"].astype(str)\n",
    "df.head()"
   ]
  },
  {
   "cell_type": "code",
   "execution_count": null,
   "id": "closing-perception",
   "metadata": {},
   "outputs": [],
   "source": [
    "fig = go.Figure(data=go.Scattergeo(\n",
    "        lon = df[\"long\"],\n",
    "        lat = df[\"lat\"],\n",
    "        text = df[\"text\"],\n",
    "        mode = \"markers\",\n",
    "        marker_color = df[\"cnt\"],\n",
    "        ))\n",
    "\n",
    "fig.update_layout(\n",
    "        title = \"Most trafficked US airports<br>(Hover for airport names)\",\n",
    "        geo_scope=\"usa\",\n",
    "    )\n",
    "fig.show()"
   ]
  },
  {
   "cell_type": "markdown",
   "id": "precise-rogers",
   "metadata": {},
   "source": [
    "### Indicators"
   ]
  },
  {
   "cell_type": "code",
   "execution_count": null,
   "id": "quarterly-portfolio",
   "metadata": {},
   "outputs": [],
   "source": [
    "fig = go.Figure(go.Indicator(\n",
    "    mode = \"gauge+number\",\n",
    "    value = 270,\n",
    "    domain = {\"x\": [0, 1], \"y\": [0, 1]},\n",
    "    title = {\"text\": \"Speed\"}))\n",
    "\n",
    "fig.show()"
   ]
  },
  {
   "cell_type": "markdown",
   "id": "statutory-brooklyn",
   "metadata": {},
   "source": [
    "### 3D Coordinates"
   ]
  },
  {
   "cell_type": "code",
   "execution_count": null,
   "id": "muslim-swaziland",
   "metadata": {},
   "outputs": [],
   "source": [
    "import numpy as np\n",
    "\n",
    "# Helix equation\n",
    "t = np.linspace(0, 10, 50)\n",
    "x, y, z = np.cos(t), np.sin(t), t"
   ]
  },
  {
   "cell_type": "code",
   "execution_count": null,
   "id": "basic-raise",
   "metadata": {},
   "outputs": [],
   "source": [
    "fig = go.Figure(data=[go.Scatter3d(x=x, y=y, z=z, mode=\"markers\")])\n",
    "fig.show()"
   ]
  },
  {
   "cell_type": "markdown",
   "id": "after-national",
   "metadata": {},
   "source": [
    "## Dash\n",
    "Dash is an open-source framework for building analytical applications, with no Javascript required, and it is tightly integrated with the Plotly graphing library. It can be easily installed using pip.\n",
    "\n",
    "Everywhere in this page that you see `fig.show()`, you can display the same figure in a Dash application by passing it to the figure argument of the Graph component from the built-in `dash_core_components` package."
   ]
  },
  {
   "cell_type": "code",
   "execution_count": null,
   "id": "varied-prisoner",
   "metadata": {},
   "outputs": [],
   "source": [
    "# fig = go.Figure() # or any Plotly Express function e.g. px.bar(...)\n",
    "# fig.add_trace( ... )\n",
    "# fig.update_layout( ... )\n",
    "\n",
    "import dash\n",
    "import dash_core_components as dcc\n",
    "import dash_html_components as html\n",
    "\n",
    "app = dash.Dash()\n",
    "app.layout = html.Div([\n",
    "    dcc.Graph(figure=fig)\n",
    "])\n",
    "\n",
    "app.run_server(debug=True, use_reloader=False)  # Turn off reloader if inside Jupyter"
   ]
  },
  {
   "cell_type": "markdown",
   "id": "african-meeting",
   "metadata": {},
   "source": [
    "## Exercise\n",
    "First, create a couple of figures using Plotly Express and Graphic Objects modules. Then, Use Dash to create a simple dashboard that shows these figures together."
   ]
  },
  {
   "cell_type": "code",
   "execution_count": null,
   "id": "incredible-impossible",
   "metadata": {},
   "outputs": [],
   "source": []
  }
 ],
 "metadata": {
  "kernelspec": {
   "display_name": "Python 3",
   "language": "python",
   "name": "python3"
  },
  "language_info": {
   "codemirror_mode": {
    "name": "ipython",
    "version": 3
   },
   "file_extension": ".py",
   "mimetype": "text/x-python",
   "name": "python",
   "nbconvert_exporter": "python",
   "pygments_lexer": "ipython3",
   "version": "3.8.10"
  }
 },
 "nbformat": 4,
 "nbformat_minor": 5
}
