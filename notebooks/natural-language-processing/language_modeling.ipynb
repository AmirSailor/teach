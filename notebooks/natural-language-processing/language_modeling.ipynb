{
 "cells": [
  {
   "cell_type": "markdown",
   "id": "55745315",
   "metadata": {},
   "source": [
    "# Language Modeling\n",
    "You should build a language model. In particular, you should do the following:\n",
    "- Load the `harry_potter` book. You can find this text corpus in the datasets folder.\n",
    "- Split the dataset into training and test sets. \n",
    "- Prepare 2 different language models:\n",
    "    - Train a bigram language model using [NLTK](https://www.nltk.org/api/nltk.lm.html).\n",
    "    - Download a pretrained large language model like GPT2 using [Hugging Face Transformers](https://huggingface.co/docs/transformers/en/model_doc/gpt2).\n",
    "- Test both language models and report their perplexity scores.\n",
    "- Generate new sentences using both language models. \n",
    "- Check the documentation to identify the most important hyperparameters, attributes, and methods of the model. Use them in practice."
   ]
  },
  {
   "cell_type": "code",
   "execution_count": null,
   "id": "5eb9953b",
   "metadata": {},
   "outputs": [],
   "source": []
  }
 ],
 "metadata": {
  "kernelspec": {
   "display_name": "Python 3 (ipykernel)",
   "language": "python",
   "name": "python3"
  },
  "language_info": {
   "codemirror_mode": {
    "name": "ipython",
    "version": 3
   },
   "file_extension": ".py",
   "mimetype": "text/x-python",
   "name": "python",
   "nbconvert_exporter": "python",
   "pygments_lexer": "ipython3",
   "version": "3.8.11"
  }
 },
 "nbformat": 4,
 "nbformat_minor": 5
}
