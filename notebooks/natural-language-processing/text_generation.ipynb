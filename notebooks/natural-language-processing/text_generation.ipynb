{
 "cells": [
  {
   "attachments": {},
   "cell_type": "markdown",
   "id": "f053a289",
   "metadata": {},
   "source": [
    "# Text Generation\n",
    "You should build a text generator application with large language models. In particular, you should do the following:\n",
    "- Install [Ollama](https://github.com/ollama/ollama) to run open-source large language models, such as Llama 2, locally.\n",
    "- Create a chatbot using [LangChain](https://python.langchain.com/docs/get_started/quickstart/).\n",
    "- Compare the results of different open-source large language models. Analyze the effect of prompts/hyperparameters on the quality of results."
   ]
  },
  {
   "cell_type": "code",
   "execution_count": null,
   "id": "59a9dea4",
   "metadata": {},
   "outputs": [],
   "source": []
  }
 ],
 "metadata": {
  "kernelspec": {
   "display_name": "Python 3 (ipykernel)",
   "language": "python",
   "name": "python3"
  },
  "language_info": {
   "codemirror_mode": {
    "name": "ipython",
    "version": 3
   },
   "file_extension": ".py",
   "mimetype": "text/x-python",
   "name": "python",
   "nbconvert_exporter": "python",
   "pygments_lexer": "ipython3",
   "version": "3.8.12"
  }
 },
 "nbformat": 4,
 "nbformat_minor": 5
}
