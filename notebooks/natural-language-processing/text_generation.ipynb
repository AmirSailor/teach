{
 "cells": [
  {
   "attachments": {},
   "cell_type": "markdown",
   "id": "f053a289",
   "metadata": {},
   "source": [
    "# Text Generation\n",
    "You should build a text generator application with large language models. In particular, you should do the following:\n",
    "- Describe a business scenario that can benefit from a text generator application.\n",
    "- Design and implement a text generator application using open-source large language models. You can use [Ollama](https://github.com/ollama/ollama-python) or [Groq](https://console.groq.com/docs/quickstart).\n",
    "- Evaluate your application using a proper evaluation procedure and metric. \n",
    "- Analyze the effect of the prompts, large language models, and hyperparameters on the quality of your application."
   ]
  },
  {
   "cell_type": "code",
   "execution_count": null,
   "id": "59a9dea4",
   "metadata": {},
   "outputs": [],
   "source": []
  }
 ],
 "metadata": {
  "kernelspec": {
   "display_name": "Python 3 (ipykernel)",
   "language": "python",
   "name": "python3"
  },
  "language_info": {
   "codemirror_mode": {
    "name": "ipython",
    "version": 3
   },
   "file_extension": ".py",
   "mimetype": "text/x-python",
   "name": "python",
   "nbconvert_exporter": "python",
   "pygments_lexer": "ipython3",
   "version": "3.8.12"
  }
 },
 "nbformat": 4,
 "nbformat_minor": 5
}
