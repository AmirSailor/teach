{
 "cells": [
  {
   "cell_type": "markdown",
   "id": "korean-wednesday",
   "metadata": {},
   "source": [
    "# Model Deployment\n",
    "You should deploy a machine learning model. In particular, you should do the following:\n",
    "- Build a complete machine learning pipeline on the `iris` dataset. You can find this dataset in the datasets folder.\n",
    "- Save the best-performing model in a file using [pickle](https://docs.python.org/3/library/pickle.html).\n",
    "- Create an API using [FastAPI](https://fastapi.tiangolo.com/) that loads the saved model and serves predictions.\n",
    "- Run the FastAPI app locally using [Uvicorn](https://www.uvicorn.org/).\n",
    "- Test the API by sending [requests](https://requests.readthedocs.io/).\n",
    "- Check the documentation to identify the most important hyperparameters, attributes, and methods. Use them in practice."
   ]
  },
  {
   "cell_type": "code",
   "execution_count": null,
   "id": "infrared-copper",
   "metadata": {},
   "outputs": [],
   "source": []
  }
 ],
 "metadata": {
  "kernelspec": {
   "display_name": "Python 3",
   "language": "python",
   "name": "python3"
  },
  "language_info": {
   "codemirror_mode": {
    "name": "ipython",
    "version": 3
   },
   "file_extension": ".py",
   "mimetype": "text/x-python",
   "name": "python",
   "nbconvert_exporter": "python",
   "pygments_lexer": "ipython3",
   "version": "3.8.5"
  }
 },
 "nbformat": 4,
 "nbformat_minor": 5
}
