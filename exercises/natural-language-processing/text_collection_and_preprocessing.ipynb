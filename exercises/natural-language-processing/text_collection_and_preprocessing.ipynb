{
 "cells": [
  {
   "cell_type": "markdown",
   "id": "b1c67ea6",
   "metadata": {},
   "source": [
    "# Text Collection and Preprocessing\n",
    "You should collect and preprocess some textual data to investigate what is `Gisma` and how people perceive this brand on social media. In particular, you should do the following:\n",
    "- Request and receive the [About Gisma](https://www.gisma.com/school/about-us) web page using [Requests](https://requests.readthedocs.io/en/latest/).\n",
    "- Extract and clean up the main content of this web page using [Beautiful Soup](https://www.crummy.com/software/BeautifulSoup/bs4/doc/).\n",
    "- Go to [Reddit's App Preferences](https://www.reddit.com/prefs/apps) to create a new Reddit application. Once the `script` application is created, note down the `client ID`, `client secret`, and `user agent`.\n",
    "- Build a client application to work with the Reddit API using [PRAW](https://praw.readthedocs.io/en/stable/getting_started/quick_start.html).\n",
    "- Search for the latest posts about `Gisma` on Reddit and clean up their content.\n",
    "- Considering these collected textual data from two different sources (Gisma's website and Reddit), what can you say about this brand?"
   ]
  },
  {
   "cell_type": "code",
   "execution_count": null,
   "id": "0296001e",
   "metadata": {},
   "outputs": [],
   "source": []
  }
 ],
 "metadata": {
  "kernelspec": {
   "display_name": "Python 3 (ipykernel)",
   "language": "python",
   "name": "python3"
  },
  "language_info": {
   "codemirror_mode": {
    "name": "ipython",
    "version": 3
   },
   "file_extension": ".py",
   "mimetype": "text/x-python",
   "name": "python",
   "nbconvert_exporter": "python",
   "pygments_lexer": "ipython3",
   "version": "3.8.11"
  }
 },
 "nbformat": 4,
 "nbformat_minor": 5
}
