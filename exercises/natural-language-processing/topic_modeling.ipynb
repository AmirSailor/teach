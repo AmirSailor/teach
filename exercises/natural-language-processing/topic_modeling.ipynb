{
 "cells": [
  {
   "cell_type": "markdown",
   "id": "55745315",
   "metadata": {},
   "source": [
    "# Topic Modeling\n",
    "You should build topic models to describe topics of the documents. In particular, you should do the following:\n",
    "- Load the `bbc_news` dataset using [Pandas](https://pandas.pydata.org/docs/reference/api/pandas.read_csv.html). You can find this dataset in the datasets folder.\n",
    "- Train [LDA](https://radimrehurek.com/gensim/models/ldamodel.html) and [BERTopic](https://maartengr.github.io/BERTopic/index.html) topic models.\n",
    "- Evaluate the models and report their [coherence score](https://radimrehurek.com/gensim/models/coherencemodel.html).\n",
    "- Represent the word distribution of the topics and the topic distribution of the documents.  \n",
    "- Check the documentation to identify the most important hyperparameters, attributes, and methods of the model. Use them in practice."
   ]
  },
  {
   "cell_type": "code",
   "execution_count": null,
   "id": "5eb9953b",
   "metadata": {},
   "outputs": [],
   "source": []
  }
 ],
 "metadata": {
  "kernelspec": {
   "display_name": "Python 3 (ipykernel)",
   "language": "python",
   "name": "python3"
  },
  "language_info": {
   "codemirror_mode": {
    "name": "ipython",
    "version": 3
   },
   "file_extension": ".py",
   "mimetype": "text/x-python",
   "name": "python",
   "nbconvert_exporter": "python",
   "pygments_lexer": "ipython3",
   "version": "3.8.11"
  }
 },
 "nbformat": 4,
 "nbformat_minor": 5
}
